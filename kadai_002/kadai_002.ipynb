{
  "nbformat": 4,
  "nbformat_minor": 0,
  "metadata": {
    "colab": {
      "provenance": []
    },
    "kernelspec": {
      "name": "python3",
      "display_name": "Python 3"
    },
    "language_info": {
      "name": "python"
    }
  },
  "cells": [
    {
      "cell_type": "code",
      "source": [
        "!pip install bs4"
      ],
      "metadata": {
        "colab": {
          "base_uri": "https://localhost:8080/"
        },
        "id": "rTw15YrjqfD8",
        "outputId": "48f284aa-c955-46bf-c431-2b1dc094a656"
      },
      "execution_count": 1,
      "outputs": [
        {
          "output_type": "stream",
          "name": "stdout",
          "text": [
            "Collecting bs4\n",
            "  Downloading bs4-0.0.1.tar.gz (1.1 kB)\n",
            "  Preparing metadata (setup.py) ... \u001b[?25l\u001b[?25hdone\n",
            "Requirement already satisfied: beautifulsoup4 in /usr/local/lib/python3.10/dist-packages (from bs4) (4.11.2)\n",
            "Requirement already satisfied: soupsieve>1.2 in /usr/local/lib/python3.10/dist-packages (from beautifulsoup4->bs4) (2.5)\n",
            "Building wheels for collected packages: bs4\n",
            "  Building wheel for bs4 (setup.py) ... \u001b[?25l\u001b[?25hdone\n",
            "  Created wheel for bs4: filename=bs4-0.0.1-py3-none-any.whl size=1256 sha256=f824ad941d697af787b3d2118f7349809e8115046f516cb81092897ee6029af0\n",
            "  Stored in directory: /root/.cache/pip/wheels/25/42/45/b773edc52acb16cd2db4cf1a0b47117e2f69bb4eb300ed0e70\n",
            "Successfully built bs4\n",
            "Installing collected packages: bs4\n",
            "Successfully installed bs4-0.0.1\n"
          ]
        }
      ]
    },
    {
      "cell_type": "code",
      "source": [
        "from bs4 import BeautifulSoup\n",
        "from urllib import request\n",
        "\n",
        "url = 'https://www.aozora.gr.jp/cards/000148/files/2371_13943.html'\n",
        "response = request.urlopen(url)\n",
        "soup = BeautifulSoup(response)\n",
        "response.close()\n",
        "\n",
        "#タグの削除\n",
        "main_text = soup.find('div', class_='main_text')\n",
        "main_text = main_text.get_text()\n",
        "\n",
        "#テキストクリーニング\n",
        "import re\n",
        "main_text = re.sub(r\"[\\u3000 \\n \\r]\",\"\",main_text)\n",
        "#1文目のみを代表で分解\n",
        "main_text_list = ['近頃','は','大分','方々','の','雑誌','から','談話','を','しろしろ','と','責められ','て','、','頭','が','がらん胴','に','なった','から','、','当分','品切れ','の','看板','でも','懸かけ','たい','くらい','に','思っ','て','います','。']\n",
        "\n",
        "#ストップワードの削除\n",
        "url = 'http://svn.sourceforge.jp/svnroot/slothlib/CSharp/Version1/SlothLib/NLP/Filter/StopWord/word/Japanese.txt'\n",
        "response = request.urlopen(url)\n",
        "soup = BeautifulSoup(response)\n",
        "response.close()\n",
        "stopwords_text = soup.text\n",
        "stopwords_list = stopwords_text.split(\"\\r\\n\")\n",
        "stopwords_list = [word for word in stopwords_list if word]\n",
        "\n",
        "result_text_list = list()\n",
        "for main_texts in main_text_list:\n",
        "    if main_texts not in stopwords_list:\n",
        "        result_text_list.append(main_texts)\n",
        "\n",
        "print(result_text_list)"
      ],
      "metadata": {
        "colab": {
          "base_uri": "https://localhost:8080/"
        },
        "id": "qwulGlchqzDn",
        "outputId": "487a5b6d-0981-4e04-dcd1-686637695395"
      },
      "execution_count": 28,
      "outputs": [
        {
          "output_type": "stream",
          "name": "stdout",
          "text": [
            "['近頃', 'は', '大分', '方々', 'の', '雑誌', '談話', 'を', 'しろしろ', 'と', '責められ', 'て', '、', '頭', 'が', 'がらん胴', 'に', 'なった', '、', '当分', '品切れ', 'の', '看板', 'でも', '懸かけ', 'たい', 'くらい', 'に', '思っ', 'て', 'います', '。']\n"
          ]
        }
      ]
    }
  ]
}